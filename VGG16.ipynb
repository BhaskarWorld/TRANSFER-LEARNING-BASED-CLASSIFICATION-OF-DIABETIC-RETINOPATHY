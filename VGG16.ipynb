{
 "cells": [
  {
   "cell_type": "code",
   "execution_count": 0,
   "metadata": {
    "colab": {},
    "colab_type": "code",
    "id": "4SNjp9yqI7Po"
   },
   "outputs": [],
   "source": [
    "# Imports \n",
    "\n",
    "%tensorflow_version 2.x\n",
    "import tensorflow as tf\n",
    "from matplotlib import pyplot\n",
    "from tensorflow.python import keras\n",
    "from tensorflow.python.keras import Sequential\n",
    "from tensorflow.python.keras.models import Model,load_model\n",
    "from tensorflow.python.keras import backend as K\n",
    "from tensorflow.python.keras.optimizers import SGD\n",
    "from tensorflow.python.keras.regularizers import l2\n",
    "from tensorflow.python.keras.applications.vgg16 import VGG16\n",
    "from tensorflow.python.keras.applications.resnet import ResNet50\n",
    "from tensorflow.python.keras.applications.inception_v3 import InceptionV3\n",
    "from tensorflow.python.keras.preprocessing.image import ImageDataGenerator,load_img \n",
    "from tensorflow.python.keras.layers import Dense,Conv2D, MaxPooling2D ,Activation, Dropout, Flatten, BatchNormalization, GlobalAveragePooling2D\n"
   ]
  },
  {
   "cell_type": "code",
   "execution_count": 0,
   "metadata": {
    "colab": {},
    "colab_type": "code",
    "id": "wIg_eEYp8gOL"
   },
   "outputs": [],
   "source": [
    "# Model Configuration\n",
    "img_width, img_height = 224, 224  \n",
    "train_data_dir = '/content/ProgDataRandom/prog_data_gaussian_random_85_10_5/training'\n",
    "validation_data_dir = '/content/ProgDataRandom/prog_data_gaussian_random_85_10_5/validation'\n",
    "test_data_dir = '/content/ProgDataRandom/prog_data_gaussian_random_85_10_5/testing'\n",
    "nb_train_samples = 8500*5\n",
    "nb_validation_samples = 1000*5\n",
    "epochs = 50\n",
    "batch_size = 50\n",
    "reg=0.0001\n",
    "learning_rate = 0.0001"
   ]
  },
  {
   "cell_type": "code",
   "execution_count": 0,
   "metadata": {
    "colab": {},
    "colab_type": "code",
    "id": "8j5rC4-F81W5"
   },
   "outputs": [],
   "source": [
    "# Setting up the image format/image shape\n",
    "if K.image_data_format() == 'channels_first': \n",
    "    input_shape = (3, img_width, img_height) \n",
    "else: \n",
    "    input_shape = (img_width, img_height, 3)\n",
    " "
   ]
  },
  {
   "cell_type": "code",
   "execution_count": 0,
   "metadata": {
    "colab": {},
    "colab_type": "code",
    "id": "zI9JTqqk88BR"
   },
   "outputs": [],
   "source": [
    "# Created a model by using the \"InceptionV3\" as basemodel \n",
    "# and also appended few more layers to the base model\n",
    "\n",
    "basemodel = VGG16(weights =\"imagenet\",include_top= False,input_shape=input_shape )\n",
    "model = Sequential()\n",
    "for layers in basemodel.layers:\n",
    "    model.add(layers)\n",
    "\n",
    "model.add(Flatten())  # this converts our 3D feature maps to 1D feature vectors\n",
    "model.add(Dense(512,kernel_initializer='he_normal',kernel_regularizer=l2(reg),bias_regularizer=l2(reg)))\n",
    "model.add(BatchNormalization())\n",
    "model.add(Activation('relu'))\n",
    "model.add(Dense(256,kernel_initializer='he_normal',kernel_regularizer=l2(reg),bias_regularizer=l2(reg)))\n",
    "model.add(BatchNormalization())\n",
    "model.add(Activation('relu'))\n",
    "model.add(Dense(128,kernel_initializer='he_normal',kernel_regularizer=l2(reg),bias_regularizer=l2(reg)))\n",
    "model.add(BatchNormalization())\n",
    "model.add(Activation('relu'))\n",
    "model.add(Dropout(0.5))\n",
    "model.add(Dense(5))\n",
    "model.add(Activation('softmax'))\n",
    "\n",
    "\n",
    "sgd = tf.keras.optimizers.SGD(lr=learning_rate, decay=1e-6, momentum=0.9, nesterov=True)\n",
    "\n",
    "model.compile( loss= keras.losses.categorical_crossentropy, \n",
    "               optimizer = sgd, \n",
    "               metrics=['accuracy'])\n"
   ]
  },
  {
   "cell_type": "code",
   "execution_count": 34,
   "metadata": {
    "colab": {
     "base_uri": "https://localhost:8080/",
     "height": 72
    },
    "colab_type": "code",
    "executionInfo": {
     "elapsed": 2873,
     "status": "ok",
     "timestamp": 1592200346713,
     "user": {
      "displayName": "Bhaskarjyoti Sarma",
      "photoUrl": "https://lh3.googleusercontent.com/a-/AOh14GgemGE_rz2eTxcIvnoF-IdiJrDgqXEre-UbUf0wnQ=s64",
      "userId": "15651993947174926993"
     },
     "user_tz": -330
    },
    "id": "z2WuvxLC9Qgd",
    "outputId": "f46aea36-2dcd-4a6e-9c4f-e677294b1f82"
   },
   "outputs": [
    {
     "name": "stdout",
     "output_type": "stream",
     "text": [
      "Found 42500 images belonging to 5 classes.\n",
      "Found 5000 images belonging to 5 classes.\n",
      "Found 2500 images belonging to 5 classes.\n"
     ]
    }
   ],
   "source": [
    "# The section is responsible for feeding the data during the training process\n",
    "train_data_dir = '/content/ProgDataRandom/prog_data_gaussian_random_85_10_5/training'\n",
    "validation_data_dir = '/content/ProgDataRandom/prog_data_gaussian_random_85_10_5/validation'\n",
    "test_data_dir = '/content/ProgDataRandom/prog_data_gaussian_random_85_10_5/testing'\n",
    "img_width, img_height = 224, 224\n",
    "batch_size = 50\n",
    "\n",
    "datagen = ImageDataGenerator( rescale = 1./255,\n",
    "                              rotation_range=20,\n",
    "                              zoom_range=0.15,\n",
    "                              width_shift_range=0.2,\n",
    "                              height_shift_range=0.2,\n",
    "                              shear_range=0.15,\n",
    "                              horizontal_flip=True,\n",
    "                              fill_mode=\"nearest\")   \n",
    " \n",
    "test = ImageDataGenerator(rescale= 1./255)\n",
    "train_generator = datagen.flow_from_directory(\n",
    "                train_data_dir, \n",
    "                target_size =(img_width, img_height), \n",
    "                batch_size = batch_size,\n",
    "                class_mode ='categorical',\n",
    "                classes=['class_0','class_1','class_2','class_3','class_4'],\n",
    "                shuffle = True\n",
    "                ) \n",
    "\n",
    "validation_generator = datagen.flow_from_directory( \n",
    "                validation_data_dir, \n",
    "                target_size =(img_width, img_height), \n",
    "                batch_size = batch_size,\n",
    "                class_mode ='categorical',\n",
    "                classes=['class_0','class_1','class_2','class_3','class_4'],\n",
    "                shuffle = True\n",
    "                )\n",
    "test_generator = test.flow_from_directory( \n",
    "                test_data_dir, \n",
    "                target_size =(img_width, img_height), \n",
    "                batch_size = batch_size,\n",
    "                class_mode ='categorical',\n",
    "                classes=['class_0','class_1','class_2','class_3','class_4'],\n",
    "                shuffle = True\n",
    "                )\n"
   ]
  },
  {
   "cell_type": "code",
   "execution_count": null,
   "metadata": {
    "colab": {
     "base_uri": "https://localhost:8080/",
     "height": 1000
    },
    "colab_type": "code",
    "executionInfo": {
     "elapsed": 1202500,
     "status": "error",
     "timestamp": 1591500363567,
     "user": {
      "displayName": "Bhaskarjyoti Sarma",
      "photoUrl": "https://lh3.googleusercontent.com/a-/AOh14GgemGE_rz2eTxcIvnoF-IdiJrDgqXEre-UbUf0wnQ=s64",
      "userId": "15651993947174926993"
     },
     "user_tz": -330
    },
    "id": "V4Ub8q6z95Gj",
    "outputId": "7b73bf2f-e87f-4347-901e-ae2e4c3739b6"
   },
   "outputs": [],
   "source": [
    "# Started the Training proces\n",
    "\n",
    "from tensorflow.python.keras.callbacks import ModelCheckpoint\n",
    "filepath=\"weights_best.hdf5\"\n",
    "checkpoint = ModelCheckpoint(filepath, monitor='val_accuracy', verbose=1, save_best_only=True, mode='max')\n",
    "callbacks_list = [checkpoint]\n",
    "history= model.fit(\n",
    "    train_generator, \n",
    "    steps_per_epoch = nb_train_samples // batch_size, \n",
    "    epochs = epochs,\n",
    "    validation_data = validation_generator, \n",
    "    validation_steps = nb_validation_samples // batch_size,\n",
    "    shuffle = True,callbacks=callbacks_list\n",
    "    )\n",
    "\n",
    "model.save_weights('./model_saved_full.h5',overwrite= True)"
   ]
  },
  {
   "cell_type": "code",
   "execution_count": 0,
   "metadata": {
    "colab": {},
    "colab_type": "code",
    "id": "qFNTw9PHhhjG"
   },
   "outputs": [],
   "source": [
    "# from tensorflow.python.keras.models import load_model from the my Google Drive\n",
    "# The best trainned weights are stored in my GDrive as I was using colab for trainning purpose\n",
    "# So, loading the best weight from my GDrive\n",
    "# model = load_model(\"/content/drive/My Drive/VGG16.h5\")\n",
    "model.load_weights(\"/content/drive/My Drive/Diabetic Retinopathy VGG16 Weights and Model/weights_best_8068.hdf5\")"
   ]
  },
  {
   "cell_type": "code",
   "execution_count": 36,
   "metadata": {
    "colab": {
     "base_uri": "https://localhost:8080/",
     "height": 90
    },
    "colab_type": "code",
    "executionInfo": {
     "elapsed": 9725,
     "status": "ok",
     "timestamp": 1592200360415,
     "user": {
      "displayName": "Bhaskarjyoti Sarma",
      "photoUrl": "https://lh3.googleusercontent.com/a-/AOh14GgemGE_rz2eTxcIvnoF-IdiJrDgqXEre-UbUf0wnQ=s64",
      "userId": "15651993947174926993"
     },
     "user_tz": -330
    },
    "id": "vvzgP3yGiXzd",
    "outputId": "5ee85643-e9a5-4517-daf3-4fd008634a29"
   },
   "outputs": [
    {
     "name": "stdout",
     "output_type": "stream",
     "text": [
      "\n",
      "# Evaluate on test data\n",
      "50/50 [==============================] - 7s 139ms/step - loss: 0.8846 - accuracy: 0.7776\n",
      "test loss, test acc: [0.8846393823623657, 0.7775999903678894]\n"
     ]
    }
   ],
   "source": [
    "\n",
    "# performing Evaluation\n",
    "print('\\n# Evaluate on test data')\n",
    "results = model.evaluate(test_generator,batch_size = batch_size,steps = 2500 // batch_size)\n",
    "print('test loss, test acc:', results)"
   ]
  },
  {
   "cell_type": "code",
   "execution_count": 0,
   "metadata": {
    "colab": {
     "base_uri": "https://localhost:8080/",
     "height": 108
    },
    "colab_type": "code",
    "executionInfo": {
     "elapsed": 68360,
     "status": "ok",
     "timestamp": 1592198674207,
     "user": {
      "displayName": "Bhaskarjyoti Sarma",
      "photoUrl": "https://lh3.googleusercontent.com/a-/AOh14GgemGE_rz2eTxcIvnoF-IdiJrDgqXEre-UbUf0wnQ=s64",
      "userId": "15651993947174926993"
     },
     "user_tz": -330
    },
    "id": "APz-QbTl4-sj",
    "outputId": "0cdef759-2c2f-434a-d3b8-aafec6879c3c"
   },
   "outputs": [
    {
     "name": "stdout",
     "output_type": "stream",
     "text": [
      "0  completed.\n",
      "1  completed.\n",
      "2  completed.\n",
      "3  completed.\n",
      "4  completed.\n"
     ]
    }
   ],
   "source": [
    "# Testing the model with the best weight loaded \n",
    "# Examines the Testing set/ makes prediction of the testing set\n",
    "import numpy as np\n",
    "import os\n",
    "import cv2\n",
    "from sklearn.metrics import classification_report, confusion_matrix\n",
    "# Imports \n",
    "\n",
    "%tensorflow_version 2.x\n",
    "import tensorflow as tf\n",
    "from matplotlib import pyplot\n",
    "from tensorflow.python import keras\n",
    "from tensorflow.python.keras import Sequential\n",
    "from tensorflow.python.keras.models import Model\n",
    "from tensorflow.python.keras import backend as K\n",
    "from tensorflow.python.keras.optimizers import SGD\n",
    "from tensorflow.python.keras.regularizers import l2\n",
    "from tensorflow.python.keras.applications.vgg16 import VGG16\n",
    "from tensorflow.python.keras.applications.resnet import ResNet50\n",
    "from tensorflow.python.keras.applications.inception_v3 import InceptionV3\n",
    "from tensorflow.python.keras.preprocessing.image import ImageDataGenerator,load_img \n",
    "from tensorflow.python.keras.layers import Dense,Conv2D, MaxPooling2D ,Activation, Dropout, Flatten, BatchNormalization, GlobalAveragePooling2D\n",
    "#Y_pred = model.predict(test_generator,batch_size = batch_size,steps = 2500 // batch_size, use_multiprocessing=True)\n",
    "label=[]\n",
    "clas=[]\n",
    "test_data_dir = '/content/ProgDataRandom/prog_data_gaussian_random_85_10_5/testing'\n",
    "for j,i in enumerate(np.sort(os.listdir(test_data_dir))):\n",
    "    p=os.path.join(test_data_dir,i)\n",
    "    for image in os.listdir(p):\n",
    "\n",
    "            inp = os.path.join(p,image)\n",
    "            img = np.asarray(load_img(inp))/255\n",
    "            img = np.reshape(img,[1,img_width,img_height,3])\n",
    "\n",
    "            classes =model.predict_classes(img)[0]\n",
    "            \n",
    "            clas.append(classes)\n",
    "            label.append(j)\n",
    "    print(j,\" completed.\")\n",
    "          \n"
   ]
  },
  {
   "cell_type": "code",
   "execution_count": 0,
   "metadata": {
    "colab": {
     "base_uri": "https://localhost:8080/",
     "height": 55
    },
    "colab_type": "code",
    "executionInfo": {
     "elapsed": 1369,
     "status": "ok",
     "timestamp": 1592198586200,
     "user": {
      "displayName": "Bhaskarjyoti Sarma",
      "photoUrl": "https://lh3.googleusercontent.com/a-/AOh14GgemGE_rz2eTxcIvnoF-IdiJrDgqXEre-UbUf0wnQ=s64",
      "userId": "15651993947174926993"
     },
     "user_tz": -330
    },
    "id": "He_opaCoU27Q",
    "outputId": "12e01110-6e44-46aa-c0b6-a334c3c449c8"
   },
   "outputs": [
    {
     "name": "stdout",
     "output_type": "stream",
     "text": [
      "[0, 0, 0, 0, 0, 0, 0, 0, 0, 0, 0, 0, 0, 0, 0, 0, 0, 0, 0, 0, 0, 0, 0, 0, 0, 0, 0, 0, 0, 0, 0, 0, 0, 0, 0, 0, 0, 0, 0, 0, 0, 0, 0, 0, 0, 0, 0, 0, 0, 0, 0, 0, 0, 0, 0, 0, 0, 0, 0, 0, 0, 0, 0, 0, 0, 0, 0, 0, 0, 0, 0, 0, 0, 0, 0, 0, 0, 0, 0, 0, 0, 0, 0, 0, 0, 0, 0, 0, 0, 0, 0, 0, 0, 0, 0, 0, 0, 0, 0, 0, 0, 0, 0, 0, 0, 0, 0, 0, 0, 0, 0, 0, 0, 0, 0, 0, 0, 0, 0, 0, 0, 0, 0, 0, 0, 0, 0, 0, 0, 0, 0, 0, 0, 0, 0, 0, 0, 0, 0, 0, 0, 0, 0, 0, 0, 0, 0, 0, 0, 0, 0, 0, 0, 0, 0, 0, 0, 0, 0, 0, 0, 0, 0, 0, 0, 0, 0, 0, 0, 0, 0, 0, 0, 0, 0, 0, 0, 0, 0, 0, 0, 0, 0, 0, 0, 0, 0, 0, 0, 0, 0, 0, 0, 0, 0, 0, 0, 0, 0, 0, 0, 0, 0, 0, 0, 0, 0, 0, 0, 0, 0, 0, 0, 0, 0, 0, 0, 0, 0, 0, 0, 0, 0, 0, 0, 0, 0, 0, 0, 0, 0, 0, 0, 0, 0, 0, 0, 0, 0, 0, 0, 0, 0, 0, 0, 0, 0, 0, 0, 0, 0, 0, 0, 0, 0, 0, 0, 0, 0, 0, 0, 0, 0, 0, 0, 0, 0, 0, 0, 0, 0, 0, 0, 0, 0, 0, 0, 0, 0, 0, 0, 0, 0, 0, 0, 0, 0, 0, 0, 0, 0, 0, 0, 0, 0, 0, 0, 0, 0, 0, 0, 0, 0, 0, 0, 0, 0, 0, 0, 0, 0, 0, 0, 0, 0, 0, 0, 0, 0, 0, 0, 0, 0, 0, 0, 0, 0, 0, 0, 0, 0, 0, 0, 0, 0, 0, 0, 0, 0, 0, 0, 0, 0, 0, 0, 0, 0, 0, 0, 0, 0, 0, 0, 0, 0, 0, 0, 0, 0, 0, 0, 0, 0, 0, 0, 0, 0, 0, 0, 0, 0, 0, 0, 0, 0, 0, 0, 0, 0, 0, 0, 0, 0, 0, 0, 0, 0, 0, 0, 0, 0, 0, 0, 0, 0, 0, 0, 0, 0, 0, 0, 0, 0, 0, 0, 0, 0, 0, 0, 0, 0, 0, 0, 0, 0, 0, 0, 0, 0, 0, 0, 0, 0, 0, 0, 0, 0, 0, 0, 0, 0, 0, 0, 0, 0, 0, 0, 0, 0, 0, 0, 0, 0, 0, 0, 0, 0, 0, 0, 0, 0, 0, 0, 0, 0, 0, 0, 0, 0, 0, 0, 0, 0, 0, 0, 0, 0, 0, 0, 0, 0, 0, 0, 0, 0, 0, 0, 0, 0, 0, 0, 0, 0, 0, 0, 0, 0, 0, 0, 0, 0, 0, 0, 0, 0, 0, 0, 0, 0, 0, 1, 1, 1, 1, 1, 1, 1, 1, 1, 1, 1, 1, 1, 1, 1, 1, 1, 1, 1, 1, 1, 1, 1, 1, 1, 1, 1, 1, 1, 1, 1, 1, 1, 1, 1, 1, 1, 1, 1, 1, 1, 1, 1, 1, 1, 1, 1, 1, 1, 1, 1, 1, 1, 1, 1, 1, 1, 1, 1, 1, 1, 1, 1, 1, 1, 1, 1, 1, 1, 1, 1, 1, 1, 1, 1, 1, 1, 1, 1, 1, 1, 1, 1, 1, 1, 1, 1, 1, 1, 1, 1, 1, 1, 1, 1, 1, 1, 1, 1, 1, 1, 1, 1, 1, 1, 1, 1, 1, 1, 1, 1, 1, 1, 1, 1, 1, 1, 1, 1, 1, 1, 1, 1, 1, 1, 1, 1, 1, 1, 1, 1, 1, 1, 1, 1, 1, 1, 1, 1, 1, 1, 1, 1, 1, 1, 1, 1, 1, 1, 1, 1, 1, 1, 1, 1, 1, 1, 1, 1, 1, 1, 1, 1, 1, 1, 1, 1, 1, 1, 1, 1, 1, 1, 1, 1, 1, 1, 1, 1, 1, 1, 1, 1, 1, 1, 1, 1, 1, 1, 1, 1, 1, 1, 1, 1, 1, 1, 1, 1, 1, 1, 1, 1, 1, 1, 1, 1, 1, 1, 1, 1, 1, 1, 1, 1, 1, 1, 1, 1, 1, 1, 1, 1, 1, 1, 1, 1, 1, 1, 1, 1, 1, 1, 1, 1, 1, 1, 1, 1, 1, 1, 1, 1, 1, 1, 1, 1, 1, 1, 1, 1, 1, 1, 1, 1, 1, 1, 1, 1, 1, 1, 1, 1, 1, 1, 1, 1, 1, 1, 1, 1, 1, 1, 1, 1, 1, 1, 1, 1, 1, 1, 1, 1, 1, 1, 1, 1, 1, 1, 1, 1, 1, 1, 1, 1, 1, 1, 1, 1, 1, 1, 1, 1, 1, 1, 1, 1, 1, 1, 1, 1, 1, 1, 1, 1, 1, 1, 1, 1, 1, 1, 1, 1, 1, 1, 1, 1, 1, 1, 1, 1, 1, 1, 1, 1, 1, 1, 1, 1, 1, 1, 1, 1, 1, 1, 1, 1, 1, 1, 1, 1, 1, 1, 1, 1, 1, 1, 1, 1, 1, 1, 1, 1, 1, 1, 1, 1, 1, 1, 1, 1, 1, 1, 1, 1, 1, 1, 1, 1, 1, 1, 1, 1, 1, 1, 1, 1, 1, 1, 1, 1, 1, 1, 1, 1, 1, 1, 1, 1, 1, 1, 1, 1, 1, 1, 1, 1, 1, 1, 1, 1, 1, 1, 1, 1, 1, 1, 1, 1, 1, 1, 1, 1, 1, 1, 1, 1, 1, 1, 1, 1, 1, 1, 1, 1, 1, 1, 1, 1, 1, 1, 1, 1, 1, 1, 1, 1, 1, 1, 1, 1, 1, 1, 1, 1, 1, 1, 1, 1, 1, 1, 1, 1, 1, 1, 1, 1, 1, 1, 1, 1, 1, 1, 1, 1, 1, 1, 1, 1, 1, 1, 1, 1, 1, 1, 1, 1, 1, 1, 1, 1, 1, 1, 1, 1, 1, 1, 1, 1, 1, 2, 2, 2, 2, 2, 2, 2, 2, 2, 2, 2, 2, 2, 2, 2, 2, 2, 2, 2, 2, 2, 2, 2, 2, 2, 2, 2, 2, 2, 2, 2, 2, 2, 2, 2, 2, 2, 2, 2, 2, 2, 2, 2, 2, 2, 2, 2, 2, 2, 2, 2, 2, 2, 2, 2, 2, 2, 2, 2, 2, 2, 2, 2, 2, 2, 2, 2, 2, 2, 2, 2, 2, 2, 2, 2, 2, 2, 2, 2, 2, 2, 2, 2, 2, 2, 2, 2, 2, 2, 2, 2, 2, 2, 2, 2, 2, 2, 2, 2, 2, 2, 2, 2, 2, 2, 2, 2, 2, 2, 2, 2, 2, 2, 2, 2, 2, 2, 2, 2, 2, 2, 2, 2, 2, 2, 2, 2, 2, 2, 2, 2, 2, 2, 2, 2, 2, 2, 2, 2, 2, 2, 2, 2, 2, 2, 2, 2, 2, 2, 2, 2, 2, 2, 2, 2, 2, 2, 2, 2, 2, 2, 2, 2, 2, 2, 2, 2, 2, 2, 2, 2, 2, 2, 2, 2, 2, 2, 2, 2, 2, 2, 2, 2, 2, 2, 2, 2, 2, 2, 2, 2, 2, 2, 2, 2, 2, 2, 2, 2, 2, 2, 2, 2, 2, 2, 2, 2, 2, 2, 2, 2, 2, 2, 2, 2, 2, 2, 2, 2, 2, 2, 2, 2, 2, 2, 2, 2, 2, 2, 2, 2, 2, 2, 2, 2, 2, 2, 2, 2, 2, 2, 2, 2, 2, 2, 2, 2, 2, 2, 2, 2, 2, 2, 2, 2, 2, 2, 2, 2, 2, 2, 2, 2, 2, 2, 2, 2, 2, 2, 2, 2, 2, 2, 2, 2, 2, 2, 2, 2, 2, 2, 2, 2, 2, 2, 2, 2, 2, 2, 2, 2, 2, 2, 2, 2, 2, 2, 2, 2, 2, 2, 2, 2, 2, 2, 2, 2, 2, 2, 2, 2, 2, 2, 2, 2, 2, 2, 2, 2, 2, 2, 2, 2, 2, 2, 2, 2, 2, 2, 2, 2, 2, 2, 2, 2, 2, 2, 2, 2, 2, 2, 2, 2, 2, 2, 2, 2, 2, 2, 2, 2, 2, 2, 2, 2, 2, 2, 2, 2, 2, 2, 2, 2, 2, 2, 2, 2, 2, 2, 2, 2, 2, 2, 2, 2, 2, 2, 2, 2, 2, 2, 2, 2, 2, 2, 2, 2, 2, 2, 2, 2, 2, 2, 2, 2, 2, 2, 2, 2, 2, 2, 2, 2, 2, 2, 2, 2, 2, 2, 2, 2, 2, 2, 2, 2, 2, 2, 2, 2, 2, 2, 2, 2, 2, 2, 2, 2, 2, 2, 2, 2, 2, 2, 2, 2, 2, 2, 2, 2, 2, 2, 2, 2, 2, 2, 2, 2, 2, 2, 2, 2, 2, 2, 2, 2, 2, 2, 2, 2, 2, 2, 2, 2, 2, 2, 2, 2, 2, 2, 2, 2, 2, 2, 2, 2, 2, 2, 2, 2, 2, 2, 2, 2, 2, 2, 2, 2, 2, 2, 2, 2, 2, 2, 2, 2, 2, 2, 2, 2, 2, 3, 3, 3, 3, 3, 3, 3, 3, 3, 3, 3, 3, 3, 3, 3, 3, 3, 3, 3, 3, 3, 3, 3, 3, 3, 3, 3, 3, 3, 3, 3, 3, 3, 3, 3, 3, 3, 3, 3, 3, 3, 3, 3, 3, 3, 3, 3, 3, 3, 3, 3, 3, 3, 3, 3, 3, 3, 3, 3, 3, 3, 3, 3, 3, 3, 3, 3, 3, 3, 3, 3, 3, 3, 3, 3, 3, 3, 3, 3, 3, 3, 3, 3, 3, 3, 3, 3, 3, 3, 3, 3, 3, 3, 3, 3, 3, 3, 3, 3, 3, 3, 3, 3, 3, 3, 3, 3, 3, 3, 3, 3, 3, 3, 3, 3, 3, 3, 3, 3, 3, 3, 3, 3, 3, 3, 3, 3, 3, 3, 3, 3, 3, 3, 3, 3, 3, 3, 3, 3, 3, 3, 3, 3, 3, 3, 3, 3, 3, 3, 3, 3, 3, 3, 3, 3, 3, 3, 3, 3, 3, 3, 3, 3, 3, 3, 3, 3, 3, 3, 3, 3, 3, 3, 3, 3, 3, 3, 3, 3, 3, 3, 3, 3, 3, 3, 3, 3, 3, 3, 3, 3, 3, 3, 3, 3, 3, 3, 3, 3, 3, 3, 3, 3, 3, 3, 3, 3, 3, 3, 3, 3, 3, 3, 3, 3, 3, 3, 3, 3, 3, 3, 3, 3, 3, 3, 3, 3, 3, 3, 3, 3, 3, 3, 3, 3, 3, 3, 3, 3, 3, 3, 3, 3, 3, 3, 3, 3, 3, 3, 3, 3, 3, 3, 3, 3, 3, 3, 3, 3, 3, 3, 3, 3, 3, 3, 3, 3, 3, 3, 3, 3, 3, 3, 3, 3, 3, 3, 3, 3, 3, 3, 3, 3, 3, 3, 3, 3, 3, 3, 3, 3, 3, 3, 3, 3, 3, 3, 3, 3, 3, 3, 3, 3, 3, 3, 3, 3, 3, 3, 3, 3, 3, 3, 3, 3, 3, 3, 3, 3, 3, 3, 3, 3, 3, 3, 3, 3, 3, 3, 3, 3, 3, 3, 3, 3, 3, 3, 3, 3, 3, 3, 3, 3, 3, 3, 3, 3, 3, 3, 3, 3, 3, 3, 3, 3, 3, 3, 3, 3, 3, 3, 3, 3, 3, 3, 3, 3, 3, 3, 3, 3, 3, 3, 3, 3, 3, 3, 3, 3, 3, 3, 3, 3, 3, 3, 3, 3, 3, 3, 3, 3, 3, 3, 3, 3, 3, 3, 3, 3, 3, 3, 3, 3, 3, 3, 3, 3, 3, 3, 3, 3, 3, 3, 3, 3, 3, 3, 3, 3, 3, 3, 3, 3, 3, 3, 3, 3, 3, 3, 3, 3, 3, 3, 3, 3, 3, 3, 3, 3, 3, 3, 3, 3, 3, 3, 3, 3, 3, 3, 3, 3, 3, 3, 3, 3, 3, 3, 3, 3, 3, 3, 3, 3, 3, 3, 3, 3, 3, 3, 3, 3, 3, 3, 3, 3, 3, 3, 3, 3, 3, 3, 3, 3, 3, 3, 3, 3, 3, 3, 3, 3, 3, 3, 3, 3, 3, 3, 3, 3, 3, 4, 4, 4, 4, 4, 4, 4, 4, 4, 4, 4, 4, 4, 4, 4, 4, 4, 4, 4, 4, 4, 4, 4, 4, 4, 4, 4, 4, 4, 4, 4, 4, 4, 4, 4, 4, 4, 4, 4, 4, 4, 4, 4, 4, 4, 4, 4, 4, 4, 4, 4, 4, 4, 4, 4, 4, 4, 4, 4, 4, 4, 4, 4, 4, 4, 4, 4, 4, 4, 4, 4, 4, 4, 4, 4, 4, 4, 4, 4, 4, 4, 4, 4, 4, 4, 4, 4, 4, 4, 4, 4, 4, 4, 4, 4, 4, 4, 4, 4, 4, 4, 4, 4, 4, 4, 4, 4, 4, 4, 4, 4, 4, 4, 4, 4, 4, 4, 4, 4, 4, 4, 4, 4, 4, 4, 4, 4, 4, 4, 4, 4, 4, 4, 4, 4, 4, 4, 4, 4, 4, 4, 4, 4, 4, 4, 4, 4, 4, 4, 4, 4, 4, 4, 4, 4, 4, 4, 4, 4, 4, 4, 4, 4, 4, 4, 4, 4, 4, 4, 4, 4, 4, 4, 4, 4, 4, 4, 4, 4, 4, 4, 4, 4, 4, 4, 4, 4, 4, 4, 4, 4, 4, 4, 4, 4, 4, 4, 4, 4, 4, 4, 4, 4, 4, 4, 4, 4, 4, 4, 4, 4, 4, 4, 4, 4, 4, 4, 4, 4, 4, 4, 4, 4, 4, 4, 4, 4, 4, 4, 4, 4, 4, 4, 4, 4, 4, 4, 4, 4, 4, 4, 4, 4, 4, 4, 4, 4, 4, 4, 4, 4, 4, 4, 4, 4, 4, 4, 4, 4, 4, 4, 4, 4, 4, 4, 4, 4, 4, 4, 4, 4, 4, 4, 4, 4, 4, 4, 4, 4, 4, 4, 4, 4, 4, 4, 4, 4, 4, 4, 4, 4, 4, 4, 4, 4, 4, 4, 4, 4, 4, 4, 4, 4, 4, 4, 4, 4, 4, 4, 4, 4, 4, 4, 4, 4, 4, 4, 4, 4, 4, 4, 4, 4, 4, 4, 4, 4, 4, 4, 4, 4, 4, 4, 4, 4, 4, 4, 4, 4, 4, 4, 4, 4, 4, 4, 4, 4, 4, 4, 4, 4, 4, 4, 4, 4, 4, 4, 4, 4, 4, 4, 4, 4, 4, 4, 4, 4, 4, 4, 4, 4, 4, 4, 4, 4, 4, 4, 4, 4, 4, 4, 4, 4, 4, 4, 4, 4, 4, 4, 4, 4, 4, 4, 4, 4, 4, 4, 4, 4, 4, 4, 4, 4, 4, 4, 4, 4, 4, 4, 4, 4, 4, 4, 4, 4, 4, 4, 4, 4, 4, 4, 4, 4, 4, 4, 4, 4, 4, 4, 4, 4, 4, 4, 4, 4, 4, 4, 4, 4, 4, 4, 4, 4, 4, 4, 4, 4, 4, 4, 4, 4, 4, 4, 4, 4, 4, 4, 4, 4, 4, 4, 4, 4, 4, 4, 4, 4, 4, 4, 4, 4, 4, 4, 4, 4, 4, 4, 4, 4, 4, 4, 4, 4, 4, 4, 4, 4, 4, 4, 4, 4, 4, 4, 4, 4, 4, 4, 4, 4, 4] [array([0]), array([0]), array([0]), array([0]), array([0]), array([0]), array([0]), array([0]), array([0]), array([2]), array([0]), array([0]), array([2]), array([0]), array([0]), array([0]), array([0]), array([0]), array([1]), array([0]), array([0]), array([1]), array([0]), array([1]), array([0]), array([0]), array([1]), array([0]), array([0]), array([0]), array([0]), array([0]), array([0]), array([0]), array([0]), array([0]), array([2]), array([0]), array([0]), array([0]), array([0]), array([0]), array([0]), array([2]), array([0]), array([0]), array([0]), array([0]), array([0]), array([0]), array([0]), array([0]), array([0]), array([2]), array([0]), array([0]), array([4]), array([0]), array([0]), array([0]), array([0]), array([0]), array([0]), array([0]), array([0]), array([0]), array([1]), array([0]), array([0]), array([0]), array([0]), array([0]), array([0]), array([0]), array([1]), array([0]), array([0]), array([0]), array([0]), array([2]), array([0]), array([0]), array([0]), array([0]), array([0]), array([0]), array([0]), array([0]), array([0]), array([0]), array([0]), array([0]), array([0]), array([0]), array([0]), array([2]), array([0]), array([0]), array([0]), array([0]), array([0]), array([0]), array([0]), array([0]), array([0]), array([0]), array([0]), array([0]), array([0]), array([0]), array([0]), array([0]), array([0]), array([0]), array([0]), array([0]), array([0]), array([0]), array([0]), array([0]), array([0]), array([0]), array([2]), array([0]), array([1]), array([0]), array([0]), array([2]), array([0]), array([0]), array([1]), array([0]), array([0]), array([2]), array([0]), array([1]), array([0]), array([1]), array([0]), array([0]), array([0]), array([0]), array([0]), array([0]), array([0]), array([0]), array([0]), array([0]), array([1]), array([0]), array([0]), array([0]), array([0]), array([0]), array([0]), array([0]), array([0]), array([0]), array([0]), array([0]), array([1]), array([0]), array([0]), array([0]), array([0]), array([0]), array([0]), array([0]), array([0]), array([1]), array([0]), array([2]), array([0]), array([0]), array([1]), array([0]), array([0]), array([0]), array([0]), array([0]), array([0]), array([0]), array([0]), array([0]), array([0]), array([0]), array([0]), array([0]), array([0]), array([0]), array([0]), array([0]), array([0]), array([0]), array([0]), array([0]), array([0]), array([2]), array([0]), array([0]), array([0]), array([0]), array([0]), array([2]), array([0]), array([0]), array([0]), array([0]), array([1]), array([0]), array([0]), array([1]), array([0]), array([1]), array([0]), array([0]), array([0]), array([0]), array([0]), array([0]), array([0]), array([0]), array([0]), array([0]), array([0]), array([0]), array([0]), array([0]), array([0]), array([0]), array([0]), array([0]), array([0]), array([0]), array([1]), array([0]), array([0]), array([0]), array([0]), array([0]), array([0]), array([0]), array([0]), array([0]), array([0]), array([1]), array([0]), array([2]), array([0]), array([0]), array([0]), array([0]), array([0]), array([0]), array([0]), array([0]), array([0]), array([0]), array([0]), array([0]), array([0]), array([0]), array([0]), array([0]), array([0]), array([0]), array([1]), array([2]), array([0]), array([0]), array([0]), array([0]), array([0]), array([0]), array([0]), array([0]), array([0]), array([2]), array([0]), array([0]), array([0]), array([2]), array([0]), array([0]), array([0]), array([0]), array([0]), array([1]), array([0]), array([0]), array([0]), array([0]), array([0]), array([0]), array([0]), array([0]), array([0]), array([0]), array([0]), array([0]), array([0]), array([0]), array([0]), array([0]), array([0]), array([0]), array([0]), array([0]), array([0]), array([0]), array([0]), array([0]), array([0]), array([0]), array([0]), array([0]), array([0]), array([0]), array([0]), array([0]), array([0]), array([0]), array([0]), array([0]), array([0]), array([0]), array([0]), array([0]), array([0]), array([0]), array([0]), array([0]), array([0]), array([0]), array([0]), array([0]), array([0]), array([0]), array([0]), array([0]), array([0]), array([0]), array([0]), array([0]), array([0]), array([0]), array([0]), array([0]), array([0]), array([0]), array([0]), array([1]), array([0]), array([0]), array([0]), array([2]), array([0]), array([0]), array([0]), array([0]), array([0]), array([0]), array([0]), array([0]), array([0]), array([0]), array([0]), array([0]), array([0]), array([0]), array([0]), array([2]), array([0]), array([0]), array([0]), array([0]), array([0]), array([1]), array([0]), array([0]), array([1]), array([2]), array([0]), array([0]), array([0]), array([0]), array([0]), array([0]), array([0]), array([0]), array([0]), array([0]), array([0]), array([0]), array([0]), array([0]), array([0]), array([0]), array([0]), array([0]), array([0]), array([0]), array([0]), array([0]), array([0]), array([0]), array([0]), array([0]), array([0]), array([0]), array([0]), array([0]), array([0]), array([0]), array([0]), array([2]), array([0]), array([0]), array([0]), array([0]), array([0]), array([2]), array([0]), array([0]), array([0]), array([0]), array([0]), array([0]), array([0]), array([0]), array([0]), array([0]), array([0]), array([0]), array([0]), array([0]), array([0]), array([0]), array([0]), array([1]), array([0]), array([1]), array([2]), array([0]), array([0]), array([2]), array([0]), array([0]), array([0]), array([0]), array([0]), array([0]), array([0]), array([0]), array([0]), array([0]), array([0]), array([0]), array([2]), array([0]), array([0]), array([0]), array([0]), array([0]), array([0]), array([1]), array([2]), array([0]), array([0]), array([2]), array([0]), array([0]), array([0]), array([0]), array([0]), array([0]), array([0]), array([0]), array([0]), array([0]), array([0]), array([0]), array([0]), array([0]), array([0]), array([0]), array([1]), array([0]), array([0]), array([0]), array([0]), array([0]), array([0]), array([0]), array([1]), array([0]), array([0]), array([0]), array([0]), array([0]), array([1]), array([1]), array([1]), array([1]), array([1]), array([0]), array([1]), array([1]), array([1]), array([1]), array([1]), array([1]), array([1]), array([0]), array([1]), array([1]), array([1]), array([1]), array([1]), array([1]), array([1]), array([0]), array([1]), array([1]), array([1]), array([1]), array([1]), array([1]), array([0]), array([1]), array([1]), array([1]), array([2]), array([1]), array([1]), array([1]), array([1]), array([1]), array([1]), array([1]), array([1]), array([1]), array([1]), array([1]), array([0]), array([1]), array([1]), array([1]), array([2]), array([1]), array([1]), array([0]), array([1]), array([1]), array([1]), array([1]), array([0]), array([1]), array([1]), array([0]), array([1]), array([1]), array([1]), array([1]), array([1]), array([1]), array([1]), array([1]), array([0]), array([1]), array([2]), array([1]), array([1]), array([1]), array([0]), array([0]), array([1]), array([1]), array([1]), array([1]), array([0]), array([1]), array([1]), array([1]), array([1]), array([1]), array([1]), array([0]), array([1]), array([1]), array([1]), array([1]), array([1]), array([1]), array([1]), array([1]), array([1]), array([2]), array([1]), array([1]), array([1]), array([1]), array([1]), array([2]), array([2]), array([0]), array([1]), array([1]), array([1]), array([1]), array([1]), array([1]), array([1]), array([0]), array([1]), array([1]), array([1]), array([1]), array([0]), array([1]), array([1]), array([1]), array([1]), array([0]), array([1]), array([1]), array([1]), array([1]), array([1]), array([1]), array([1]), array([1]), array([1]), array([1]), array([1]), array([1]), array([1]), array([1]), array([1]), array([1]), array([1]), array([1]), array([1]), array([1]), array([1]), array([0]), array([1]), array([1]), array([1]), array([1]), array([1]), array([1]), array([1]), array([4]), array([1]), array([1]), array([1]), array([1]), array([1]), array([1]), array([1]), array([0]), array([1]), array([1]), array([0]), array([1]), array([2]), array([1]), array([1]), array([1]), array([1]), array([0]), array([0]), array([1]), array([1]), array([1]), array([1]), array([1]), array([1]), array([1]), array([1]), array([0]), array([1]), array([0]), array([1]), array([1]), array([1]), array([1]), array([1]), array([1]), array([1]), array([0]), array([1]), array([1]), array([1]), array([1]), array([1]), array([1]), array([1]), array([1]), array([1]), array([1]), array([1]), array([1]), array([1]), array([0]), array([1]), array([1]), array([1]), array([1]), array([1]), array([1]), array([1]), array([1]), array([1]), array([1]), array([1]), array([0]), array([1]), array([0]), array([1]), array([1]), array([1]), array([1]), array([1]), array([0]), array([0]), array([1]), array([1]), array([1]), array([0]), array([1]), array([1]), array([0]), array([1]), array([1]), array([0]), array([1]), array([1]), array([1]), array([1]), array([1]), array([0]), array([0]), array([2]), array([1]), array([2]), array([1]), array([1]), array([1]), array([0]), array([1]), array([1]), array([1]), array([1]), array([0]), array([0]), array([2]), array([0]), array([1]), array([1]), array([0]), array([1]), array([1]), array([1]), array([1]), array([0]), array([1]), array([0]), array([1]), array([1]), array([1]), array([0]), array([1]), array([1]), array([1]), array([1]), array([1]), array([1]), array([0]), array([1]), array([1]), array([1]), array([1]), array([0]), array([1]), array([1]), array([1]), array([1]), array([1]), array([1]), array([1]), array([1]), array([1]), array([1]), array([1]), array([1]), array([2]), array([1]), array([1]), array([1]), array([1]), array([1]), array([1]), array([2]), array([1]), array([0]), array([1]), array([1]), array([1]), array([1]), array([1]), array([1]), array([0]), array([1]), array([0]), array([0]), array([1]), array([1]), array([2]), array([1]), array([2]), array([1]), array([1]), array([1]), array([1]), array([1]), array([1]), array([1]), array([1]), array([1]), array([1]), array([1]), array([1]), array([1]), array([1]), array([1]), array([1]), array([1]), array([1]), array([2]), array([0]), array([1]), array([2]), array([1]), array([1]), array([1]), array([1]), array([1]), array([2]), array([1]), array([1]), array([1]), array([0]), array([1]), array([1]), array([0]), array([1]), array([1]), array([1]), array([1]), array([0]), array([1]), array([1]), array([1]), array([1]), array([1]), array([1]), array([0]), array([0]), array([1]), array([1]), array([1]), array([1]), array([1]), array([1]), array([1]), array([1]), array([0]), array([0]), array([1]), array([1]), array([1]), array([1]), array([1]), array([1]), array([1]), array([0]), array([1]), array([1]), array([1]), array([0]), array([1]), array([1]), array([1]), array([1]), array([1]), array([1]), array([0]), array([1]), array([1]), array([1]), array([1]), array([1]), array([1]), array([1]), array([0]), array([1]), array([1]), array([1]), array([0]), array([1]), array([1]), array([1]), array([1]), array([1]), array([1]), array([1]), array([1]), array([0]), array([1]), array([1]), array([1]), array([1]), array([2]), array([1]), array([0]), array([1]), array([1]), array([0]), array([1]), array([1]), array([1]), array([1]), array([1]), array([1]), array([1]), array([1]), array([1]), array([1]), array([2]), array([1]), array([1]), array([1]), array([1]), array([1]), array([1]), array([0]), array([1]), array([1]), array([1]), array([1]), array([1]), array([1]), array([1]), array([1]), array([0]), array([1]), array([1]), array([1]), array([0]), array([0]), array([1]), array([1]), array([1]), array([0]), array([1]), array([1]), array([1]), array([1]), array([0]), array([0]), array([1]), array([1]), array([1]), array([1]), array([0]), array([1]), array([1]), array([1]), array([1]), array([2]), array([1]), array([1]), array([1]), array([0]), array([1]), array([1]), array([1]), array([1]), array([1]), array([1]), array([0]), array([0]), array([1]), array([1]), array([1]), array([1]), array([1]), array([1]), array([2]), array([2]), array([2]), array([2]), array([3]), array([0]), array([0]), array([2]), array([0]), array([2]), array([2]), array([0]), array([0]), array([2]), array([2]), array([0]), array([2]), array([1]), array([2]), array([2]), array([0]), array([2]), array([0]), array([2]), array([2]), array([1]), array([2]), array([3]), array([2]), array([2]), array([0]), array([0]), array([2]), array([0]), array([3]), array([0]), array([2]), array([2]), array([2]), array([2]), array([0]), array([1]), array([2]), array([2]), array([2]), array([2]), array([2]), array([2]), array([0]), array([1]), array([2]), array([2]), array([2]), array([2]), array([1]), array([2]), array([3]), array([1]), array([2]), array([2]), array([2]), array([2]), array([0]), array([2]), array([2]), array([1]), array([2]), array([2]), array([1]), array([2]), array([3]), array([2]), array([0]), array([2]), array([1]), array([2]), array([1]), array([0]), array([2]), array([2]), array([2]), array([1]), array([2]), array([3]), array([1]), array([1]), array([3]), array([2]), array([3]), array([2]), array([0]), array([3]), array([2]), array([1]), array([2]), array([2]), array([1]), array([2]), array([0]), array([1]), array([2]), array([3]), array([1]), array([1]), array([2]), array([1]), array([2]), array([1]), array([2]), array([2]), array([2]), array([1]), array([0]), array([2]), array([2]), array([3]), array([2]), array([2]), array([2]), array([0]), array([0]), array([2]), array([0]), array([2]), array([2]), array([2]), array([2]), array([1]), array([1]), array([2]), array([2]), array([2]), array([2]), array([2]), array([1]), array([2]), array([0]), array([1]), array([1]), array([2]), array([2]), array([2]), array([1]), array([2]), array([0]), array([2]), array([2]), array([0]), array([0]), array([2]), array([2]), array([2]), array([2]), array([0]), array([1]), array([2]), array([2]), array([0]), array([2]), array([2]), array([4]), array([2]), array([2]), array([2]), array([0]), array([0]), array([2]), array([2]), array([1]), array([2]), array([2]), array([2]), array([2]), array([2]), array([1]), array([1]), array([2]), array([2]), array([2]), array([0]), array([2]), array([1]), array([0]), array([1]), array([0]), array([0]), array([1]), array([4]), array([2]), array([2]), array([2]), array([0]), array([2]), array([2]), array([1]), array([2]), array([2]), array([2]), array([2]), array([0]), array([2]), array([2]), array([2]), array([1]), array([2]), array([2]), array([1]), array([2]), array([2]), array([0]), array([2]), array([2]), array([2]), array([2]), array([0]), array([0]), array([2]), array([2]), array([2]), array([2]), array([1]), array([2]), array([2]), array([0]), array([2]), array([3]), array([2]), array([2]), array([2]), array([0]), array([2]), array([2]), array([2]), array([2]), array([2]), array([2]), array([2]), array([2]), array([2]), array([2]), array([2]), array([2]), array([2]), array([0]), array([2]), array([2]), array([0]), array([2]), array([0]), array([1]), array([2]), array([1]), array([2]), array([2]), array([0]), array([0]), array([0]), array([2]), array([2]), array([1]), array([2]), array([3]), array([2]), array([0]), array([2]), array([0]), array([3]), array([2]), array([2]), array([2]), array([2]), array([0]), array([0]), array([0]), array([2]), array([2]), array([2]), array([2]), array([0]), array([2]), array([2]), array([2]), array([2]), array([2]), array([2]), array([0]), array([0]), array([2]), array([3]), array([2]), array([0]), array([0]), array([2]), array([2]), array([2]), array([2]), array([1]), array([2]), array([2]), array([0]), array([2]), array([2]), array([2]), array([0]), array([0]), array([1]), array([2]), array([1]), array([2]), array([2]), array([2]), array([3]), array([2]), array([2]), array([3]), array([2]), array([2]), array([2]), array([0]), array([2]), array([2]), array([2]), array([0]), array([2]), array([2]), array([2]), array([2]), array([2]), array([0]), array([3]), array([2]), array([2]), array([2]), array([2]), array([3]), array([2]), array([2]), array([0]), array([2]), array([2]), array([2]), array([2]), array([2]), array([2]), array([2]), array([2]), array([2]), array([2]), array([2]), array([2]), array([2]), array([1]), array([2]), array([2]), array([2]), array([0]), array([2]), array([2]), array([2]), array([2]), array([1]), array([3]), array([1]), array([2]), array([2]), array([2]), array([2]), array([0]), array([2]), array([2]), array([1]), array([0]), array([2]), array([2]), array([2]), array([1]), array([2]), array([2]), array([2]), array([2]), array([2]), array([2]), array([2]), array([0]), array([1]), array([2]), array([2]), array([2]), array([2]), array([2]), array([2]), array([2]), array([2]), array([2]), array([1]), array([1]), array([3]), array([0]), array([2]), array([2]), array([2]), array([3]), array([0]), array([0]), array([2]), array([0]), array([0]), array([2]), array([1]), array([0]), array([2]), array([2]), array([2]), array([2]), array([1]), array([2]), array([2]), array([2]), array([2]), array([1]), array([2]), array([2]), array([2]), array([3]), array([3]), array([3]), array([2]), array([2]), array([1]), array([1]), array([2]), array([1]), array([0]), array([2]), array([3]), array([1]), array([2]), array([2]), array([2]), array([0]), array([1]), array([2]), array([2]), array([2]), array([2]), array([2]), array([2]), array([1]), array([1]), array([2]), array([2]), array([2]), array([2]), array([0]), array([2]), array([2]), array([2]), array([2]), array([2]), array([2]), array([1]), array([2]), array([2]), array([2]), array([2]), array([2]), array([0]), array([2]), array([2]), array([2]), array([2]), array([2]), array([0]), array([2]), array([2]), array([1]), array([2]), array([2]), array([0]), array([2]), array([2]), array([0]), array([3]), array([2]), array([2]), array([0]), array([2]), array([2]), array([0]), array([1]), array([2]), array([2]), array([1]), array([0]), array([2]), array([2]), array([2]), array([2]), array([2]), array([2]), array([2]), array([3]), array([3]), array([2]), array([0]), array([1]), array([3]), array([3]), array([3]), array([3]), array([2]), array([2]), array([2]), array([2]), array([3]), array([3]), array([3]), array([2]), array([2]), array([3]), array([3]), array([3]), array([3]), array([3]), array([3]), array([3]), array([3]), array([0]), array([3]), array([3]), array([3]), array([3]), array([2]), array([3]), array([2]), array([2]), array([2]), array([3]), array([2]), array([2]), array([3]), array([2]), array([2]), array([3]), array([3]), array([3]), array([2]), array([3]), array([3]), array([3]), array([2]), array([3]), array([2]), array([3]), array([3]), array([3]), array([3]), array([3]), array([2]), array([2]), array([2]), array([3]), array([2]), array([2]), array([3]), array([3]), array([3]), array([3]), array([2]), array([3]), array([3]), array([2]), array([2]), array([0]), array([2]), array([3]), array([2]), array([3]), array([2]), array([3]), array([3]), array([3]), array([0]), array([3]), array([2]), array([3]), array([2]), array([3]), array([2]), array([3]), array([2]), array([3]), array([2]), array([0]), array([2]), array([0]), array([2]), array([3]), array([0]), array([3]), array([2]), array([2]), array([3]), array([3]), array([0]), array([3]), array([3]), array([3]), array([3]), array([2]), array([4]), array([3]), array([3]), array([3]), array([3]), array([2]), array([2]), array([3]), array([3]), array([1]), array([3]), array([3]), array([3]), array([3]), array([3]), array([2]), array([3]), array([3]), array([3]), array([2]), array([3]), array([2]), array([3]), array([2]), array([2]), array([2]), array([3]), array([3]), array([3]), array([3]), array([3]), array([3]), array([3]), array([3]), array([3]), array([3]), array([3]), array([3]), array([3]), array([2]), array([3]), array([2]), array([0]), array([3]), array([3]), array([2]), array([3]), array([2]), array([2]), array([3]), array([2]), array([3]), array([3]), array([3]), array([3]), array([2]), array([3]), array([3]), array([3]), array([2]), array([3]), array([2]), array([3]), array([2]), array([0]), array([3]), array([0]), array([3]), array([3]), array([2]), array([3]), array([3]), array([3]), array([3]), array([3]), array([3]), array([1]), array([3]), array([3]), array([3]), array([3]), array([3]), array([3]), array([3]), array([3]), array([3]), array([3]), array([2]), array([3]), array([2]), array([3]), array([3]), array([0]), array([2]), array([2]), array([3]), array([2]), array([3]), array([3]), array([3]), array([0]), array([2]), array([3]), array([0]), array([2]), array([3]), array([0]), array([0]), array([2]), array([3]), array([3]), array([3]), array([2]), array([2]), array([0]), array([2]), array([3]), array([2]), array([3]), array([3]), array([2]), array([2]), array([3]), array([3]), array([3]), array([3]), array([3]), array([2]), array([2]), array([2]), array([2]), array([2]), array([3]), array([2]), array([2]), array([3]), array([3]), array([2]), array([3]), array([3]), array([3]), array([2]), array([3]), array([3]), array([3]), array([3]), array([3]), array([3]), array([3]), array([3]), array([0]), array([3]), array([0]), array([3]), array([2]), array([3]), array([3]), array([2]), array([0]), array([3]), array([3]), array([3]), array([3]), array([3]), array([3]), array([0]), array([3]), array([2]), array([2]), array([0]), array([2]), array([3]), array([0]), array([2]), array([3]), array([2]), array([3]), array([3]), array([3]), array([3]), array([3]), array([3]), array([0]), array([2]), array([2]), array([3]), array([3]), array([3]), array([3]), array([3]), array([3]), array([3]), array([3]), array([0]), array([2]), array([0]), array([2]), array([0]), array([3]), array([3]), array([3]), array([2]), array([0]), array([0]), array([3]), array([2]), array([3]), array([3]), array([3]), array([3]), array([3]), array([3]), array([3]), array([2]), array([2]), array([2]), array([2]), array([3]), array([3]), array([2]), array([0]), array([2]), array([2]), array([2]), array([3]), array([3]), array([3]), array([2]), array([3]), array([0]), array([2]), array([0]), array([2]), array([3]), array([2]), array([2]), array([3]), array([3]), array([3]), array([3]), array([2]), array([2]), array([3]), array([2]), array([3]), array([2]), array([2]), array([3]), array([3]), array([2]), array([2]), array([3]), array([3]), array([3]), array([3]), array([0]), array([1]), array([3]), array([3]), array([2]), array([3]), array([3]), array([2]), array([2]), array([3]), array([3]), array([3]), array([0]), array([3]), array([3]), array([3]), array([2]), array([0]), array([2]), array([3]), array([3]), array([3]), array([1]), array([3]), array([2]), array([2]), array([3]), array([3]), array([3]), array([2]), array([3]), array([0]), array([3]), array([3]), array([2]), array([2]), array([3]), array([3]), array([2]), array([3]), array([3]), array([2]), array([2]), array([3]), array([3]), array([3]), array([3]), array([3]), array([3]), array([2]), array([2]), array([3]), array([3]), array([2]), array([3]), array([3]), array([2]), array([3]), array([3]), array([3]), array([2]), array([2]), array([3]), array([3]), array([2]), array([3]), array([3]), array([2]), array([3]), array([1]), array([2]), array([3]), array([3]), array([3]), array([2]), array([2]), array([2]), array([2]), array([2]), array([3]), array([2]), array([2]), array([0]), array([3]), array([3]), array([2]), array([2]), array([3]), array([2]), array([3]), array([3]), array([0]), array([3]), array([3]), array([0]), array([3]), array([3]), array([2]), array([2]), array([3]), array([2]), array([3]), array([3]), array([3]), array([3]), array([2]), array([3]), array([2]), array([3]), array([3]), array([3]), array([2]), array([2]), array([2]), array([2]), array([3]), array([2]), array([2]), array([3]), array([3]), array([2]), array([2]), array([2]), array([3]), array([3]), array([3]), array([0]), array([3]), array([3]), array([2]), array([2]), array([0]), array([3]), array([2]), array([0]), array([4]), array([4]), array([4]), array([4]), array([4]), array([4]), array([4]), array([4]), array([4]), array([4]), array([4]), array([4]), array([4]), array([4]), array([4]), array([4]), array([4]), array([4]), array([4]), array([4]), array([4]), array([4]), array([4]), array([4]), array([4]), array([4]), array([4]), array([4]), array([2]), array([4]), array([4]), array([4]), array([4]), array([4]), array([4]), array([4]), array([4]), array([4]), array([4]), array([4]), array([4]), array([4]), array([4]), array([4]), array([4]), array([4]), array([4]), array([4]), array([4]), array([4]), array([4]), array([4]), array([4]), array([4]), array([4]), array([4]), array([4]), array([4]), array([4]), array([4]), array([4]), array([4]), array([4]), array([4]), array([4]), array([4]), array([4]), array([4]), array([4]), array([4]), array([4]), array([4]), array([4]), array([4]), array([4]), array([4]), array([0]), array([4]), array([4]), array([4]), array([4]), array([4]), array([4]), array([4]), array([4]), array([4]), array([4]), array([4]), array([4]), array([4]), array([4]), array([4]), array([4]), array([4]), array([4]), array([4]), array([4]), array([4]), array([4]), array([4]), array([4]), array([4]), array([4]), array([4]), array([4]), array([4]), array([4]), array([4]), array([4]), array([4]), array([4]), array([4]), array([4]), array([4]), array([4]), array([4]), array([4]), array([4]), array([4]), array([4]), array([4]), array([4]), array([4]), array([4]), array([4]), array([4]), array([4]), array([4]), array([4]), array([4]), array([4]), array([4]), array([4]), array([4]), array([4]), array([4]), array([4]), array([4]), array([4]), array([4]), array([4]), array([4]), array([4]), array([4]), array([4]), array([4]), array([4]), array([4]), array([4]), array([4]), array([4]), array([4]), array([4]), array([4]), array([4]), array([4]), array([4]), array([4]), array([4]), array([4]), array([4]), array([4]), array([4]), array([4]), array([4]), array([4]), array([4]), array([4]), array([4]), array([4]), array([4]), array([4]), array([2]), array([4]), array([4]), array([4]), array([4]), array([4]), array([4]), array([4]), array([4]), array([4]), array([4]), array([4]), array([4]), array([4]), array([4]), array([4]), array([4]), array([4]), array([4]), array([4]), array([4]), array([4]), array([4]), array([4]), array([4]), array([4]), array([4]), array([4]), array([4]), array([4]), array([4]), array([4]), array([4]), array([4]), array([4]), array([4]), array([4]), array([4]), array([4]), array([4]), array([4]), array([4]), array([4]), array([4]), array([4]), array([4]), array([4]), array([4]), array([4]), array([4]), array([4]), array([4]), array([4]), array([4]), array([4]), array([4]), array([4]), array([4]), array([4]), array([4]), array([4]), array([4]), array([4]), array([4]), array([4]), array([4]), array([4]), array([4]), array([4]), array([4]), array([4]), array([4]), array([4]), array([4]), array([4]), array([4]), array([4]), array([4]), array([4]), array([4]), array([4]), array([4]), array([4]), array([4]), array([4]), array([4]), array([4]), array([1]), array([4]), array([4]), array([4]), array([4]), array([4]), array([4]), array([4]), array([4]), array([4]), array([4]), array([4]), array([4]), array([4]), array([4]), array([4]), array([4]), array([4]), array([4]), array([4]), array([4]), array([4]), array([4]), array([4]), array([4]), array([4]), array([4]), array([4]), array([4]), array([4]), array([4]), array([4]), array([4]), array([4]), array([4]), array([4]), array([4]), array([4]), array([4]), array([4]), array([4]), array([4]), array([4]), array([4]), array([4]), array([4]), array([4]), array([4]), array([4]), array([4]), array([4]), array([4]), array([4]), array([4]), array([4]), array([4]), array([4]), array([4]), array([4]), array([4]), array([4]), array([4]), array([4]), array([4]), array([4]), array([4]), array([4]), array([4]), array([4]), array([4]), array([4]), array([4]), array([4]), array([4]), array([4]), array([4]), array([4]), array([4]), array([4]), array([4]), array([4]), array([4]), array([4]), array([4]), array([4]), array([4]), array([4]), array([4]), array([4]), array([4]), array([4]), array([4]), array([4]), array([4]), array([4]), array([2]), array([4]), array([4]), array([4]), array([4]), array([4]), array([4]), array([4]), array([4]), array([4]), array([4]), array([4]), array([4]), array([4]), array([4]), array([4]), array([4]), array([4]), array([4]), array([4]), array([4]), array([4]), array([4]), array([4]), array([4]), array([4]), array([4]), array([4]), array([4]), array([4]), array([4]), array([4]), array([4]), array([4]), array([2]), array([4]), array([4]), array([4]), array([4]), array([4]), array([4]), array([4]), array([4]), array([4]), array([4]), array([4]), array([4]), array([4]), array([4]), array([4]), array([4]), array([4]), array([4]), array([4]), array([4]), array([4]), array([4]), array([4]), array([4]), array([4]), array([4]), array([4]), array([2]), array([4]), array([4]), array([4]), array([4]), array([4]), array([4]), array([4]), array([4]), array([4]), array([4]), array([4]), array([4]), array([4]), array([4]), array([4]), array([4]), array([4]), array([4]), array([4]), array([4]), array([4]), array([4]), array([4]), array([4]), array([4]), array([4]), array([4]), array([4]), array([4]), array([4]), array([4]), array([4]), array([4]), array([4]), array([4]), array([4]), array([4]), array([4]), array([4]), array([4]), array([4]), array([4]), array([4]), array([4]), array([4]), array([4]), array([4]), array([4]), array([4]), array([4]), array([4]), array([2]), array([4]), array([4]), array([4]), array([4]), array([4]), array([4]), array([4]), array([4]), array([4]), array([4]), array([4]), array([4]), array([4]), array([4]), array([2]), array([4]), array([4]), array([4]), array([4]), array([4]), array([4]), array([4]), array([4]), array([4]), array([4]), array([4]), array([4]), array([4]), array([4]), array([4]), array([4])]\n"
     ]
    }
   ],
   "source": [
    "print(label,clas,end=\"\\n\")"
   ]
  },
  {
   "cell_type": "code",
   "execution_count": 0,
   "metadata": {
    "colab": {
     "base_uri": "https://localhost:8080/",
     "height": 363
    },
    "colab_type": "code",
    "executionInfo": {
     "elapsed": 1280,
     "status": "ok",
     "timestamp": 1592198693813,
     "user": {
      "displayName": "Bhaskarjyoti Sarma",
      "photoUrl": "https://lh3.googleusercontent.com/a-/AOh14GgemGE_rz2eTxcIvnoF-IdiJrDgqXEre-UbUf0wnQ=s64",
      "userId": "15651993947174926993"
     },
     "user_tz": -330
    },
    "id": "K2mlavcr8P3H",
    "outputId": "922acf9d-be7c-408e-d468-11a7dec595ca"
   },
   "outputs": [
    {
     "name": "stdout",
     "output_type": "stream",
     "text": [
      "Confusion Matrix\n",
      "[[443  29  27   0   1]\n",
      " [ 76 403  20   0   1]\n",
      " [ 85  66 320  27   2]\n",
      " [ 42   6 164 287   1]\n",
      " [  1   1   7   0 491]]\n",
      "Classification Report\n",
      "              precision    recall  f1-score   support\n",
      "\n",
      "     class_0       0.68      0.89      0.77       500\n",
      "     class_1       0.80      0.81      0.80       500\n",
      "     class_2       0.59      0.64      0.62       500\n",
      "     class_3       0.91      0.57      0.71       500\n",
      "     class_4       0.99      0.98      0.99       500\n",
      "\n",
      "    accuracy                           0.78      2500\n",
      "   macro avg       0.80      0.78      0.78      2500\n",
      "weighted avg       0.80      0.78      0.78      2500\n",
      "\n"
     ]
    }
   ],
   "source": [
    "# Generates the Confusion Matrix and other Reports\n",
    "print('Confusion Matrix')\n",
    "print(confusion_matrix(label, clas))\n",
    "print('Classification Report')\n",
    "target_names = ['class_0','class_1','class_2','class_3','class_4']\n",
    "print(classification_report(label, clas, target_names=target_names))"
   ]
  },
  {
   "cell_type": "code",
   "execution_count": null,
   "metadata": {
    "colab": {
     "base_uri": "https://localhost:8080/",
     "height": 248
    },
    "colab_type": "code",
    "executionInfo": {
     "elapsed": 1302,
     "status": "error",
     "timestamp": 1591835393738,
     "user": {
      "displayName": "Bhaskarjyoti Sarma",
      "photoUrl": "https://lh3.googleusercontent.com/a-/AOh14GgemGE_rz2eTxcIvnoF-IdiJrDgqXEre-UbUf0wnQ=s64",
      "userId": "15651993947174926993"
     },
     "user_tz": -330
    },
    "id": "1Pt60zF8I7Pt",
    "outputId": "568fca1a-b614-446a-d9d0-a15449051d0c"
   },
   "outputs": [],
   "source": [
    "# Use to visualize the result graphically\n",
    "\n",
    "f1=pyplot.figure()\n",
    "pyplot.plot(history.history['accuracy'], label='train_acc')\n",
    "pyplot.plot(history.history['val_accuracy'], label='val_acc')\n",
    "f2=pyplot.figure()\n",
    "pyplot.plot(history.history['loss'], label='train_loss')\n",
    "pyplot.plot(history.history['val_loss'], label='val_loss')\n",
    "pyplot.legend()\n",
    "pyplot.show()   \n"
   ]
  }
 ],
 "metadata": {
  "accelerator": "GPU",
  "colab": {
   "collapsed_sections": [],
   "name": "VGG16.ipynb",
   "provenance": []
  },
  "kernelspec": {
   "display_name": "Python 3",
   "language": "python",
   "name": "python3"
  },
  "language_info": {
   "codemirror_mode": {
    "name": "ipython",
    "version": 3
   },
   "file_extension": ".py",
   "mimetype": "text/x-python",
   "name": "python",
   "nbconvert_exporter": "python",
   "pygments_lexer": "ipython3",
   "version": "3.7.6"
  }
 },
 "nbformat": 4,
 "nbformat_minor": 1
}
